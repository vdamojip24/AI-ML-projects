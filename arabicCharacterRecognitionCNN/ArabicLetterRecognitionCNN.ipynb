{
  "nbformat": 4,
  "nbformat_minor": 0,
  "metadata": {
    "kernelspec": {
      "language": "python",
      "display_name": "Python 3",
      "name": "python3"
    },
    "language_info": {
      "pygments_lexer": "ipython3",
      "nbconvert_exporter": "python",
      "version": "3.6.4",
      "file_extension": ".py",
      "codemirror_mode": {
        "name": "ipython",
        "version": 3
      },
      "name": "python",
      "mimetype": "text/x-python"
    },
    "colab": {
      "name": "ArabicLetterRecognitionCNN.ipynb",
      "provenance": [],
      "collapsed_sections": []
    }
  },
  "cells": [
    {
      "cell_type": "code",
      "metadata": {
        "id": "vihtEOHMP_rk",
        "colab_type": "code",
        "outputId": "6aad58b2-de98-4372-d3a6-be25558bab99",
        "colab": {
          "base_uri": "https://localhost:8080/",
          "height": 128
        }
      },
      "source": [
        "from google.colab import drive\n",
        "drive.mount('/content/drive')"
      ],
      "execution_count": 0,
      "outputs": [
        {
          "output_type": "stream",
          "text": [
            "Go to this URL in a browser: https://accounts.google.com/o/oauth2/auth?client_id=947318989803-6bn6qk8qdgf4n4g3pfee6491hc0brc4i.apps.googleusercontent.com&redirect_uri=urn%3aietf%3awg%3aoauth%3a2.0%3aoob&response_type=code&scope=email%20https%3a%2f%2fwww.googleapis.com%2fauth%2fdocs.test%20https%3a%2f%2fwww.googleapis.com%2fauth%2fdrive%20https%3a%2f%2fwww.googleapis.com%2fauth%2fdrive.photos.readonly%20https%3a%2f%2fwww.googleapis.com%2fauth%2fpeopleapi.readonly\n",
            "\n",
            "Enter your authorization code:\n",
            "··········\n",
            "Mounted at /content/drive\n"
          ],
          "name": "stdout"
        }
      ]
    },
    {
      "cell_type": "code",
      "metadata": {
        "_uuid": "8f2839f25d086af736a60e9eeb907d3b93b6e0e5",
        "_cell_guid": "b1076dfc-b9ad-4769-8c92-a6c4dae69d19",
        "trusted": true,
        "id": "KOMe0T9SrLbW",
        "colab_type": "code",
        "outputId": "839702ec-b9d0-4f74-f98a-4e5cb4957d01",
        "colab": {
          "base_uri": "https://localhost:8080/",
          "height": 1000
        }
      },
      "source": [
        "from keras.layers import Dense, Dropout, Flatten, Conv2D, MaxPooling2D\n",
        "from keras.models import Sequential\n",
        "from keras.preprocessing.image import ImageDataGenerator\n",
        "import pandas as pd \n",
        "import numpy as np \n",
        "import keras\n",
        "import tflearn.data_utils as du\n",
        "from keras.optimizers import RMSprop\n",
        "import os\n",
        "from keras.utils import np_utils\n",
        "from keras.preprocessing.image import ImageDataGenerator\n",
        "\n",
        "x_train = pd.read_csv(\"/content/drive/Shared drives/CSE 140 Project/csvFiles/csvTrainImages 13440x1024.csv\")\n",
        "x_test = pd.read_csv(\"/content/drive/Shared drives/CSE 140 Project/csvFiles/csvTestImages 3360x1024.csv\")\n",
        "\n",
        "y_train = pd.read_csv(\"/content/drive/Shared drives/CSE 140 Project/csvFiles/csvTrainLabel 13440x1.csv\")\n",
        "y_test = pd.read_csv(\"/content/drive/Shared drives/CSE 140 Project/csvFiles/csvTestLabel 3360x1.csv\")\n",
        "\n",
        "x_train = x_train.iloc[:,:].values\n",
        "y_train = y_train.iloc[:,:].values\n",
        "x_test = x_test.iloc[:,:].values\n",
        "y_test = y_test.iloc[:,:].values\n",
        "\n",
        "x_train = x_train.astype('float32')/255\n",
        "x_test = x_test.astype('float32')/255\n",
        "y_train = y_train.astype('int32')\n",
        "y_test = y_test.astype('int32')\n",
        "max_ = y_train.max()+1\n",
        "\n",
        "(x_train, x_validation) = x_train[1000:], x_train[:1000]\n",
        "(y_train, y_validation) = y_train[1000:], y_train[:1000]\n",
        "\n",
        "num_labels = len(np.unique(y_train))+1\n",
        "y_train = keras.utils.to_categorical(y_train, num_labels)\n",
        "y_test = keras.utils.to_categorical(y_test, num_labels)\n",
        "y_validation = keras.utils.to_categorical(y_validation, num_labels)\n",
        "\n",
        "x_train = x_train.reshape([-1, 32, 32, 1])\n",
        "x_test = x_test.reshape([-1, 32, 32, 1])\n",
        "x_validation = x_validation.reshape([-1, 32, 32, 1])\n",
        "\n",
        "model = Sequential()\n",
        "model.add(Conv2D(filters=16, kernel_size=2, padding='same', activation='relu', \n",
        "                        input_shape=x_train.shape[1:]))\n",
        "model.add(MaxPooling2D(pool_size=2))\n",
        "model.add(Conv2D(filters=64, kernel_size=2, padding='same', activation='relu')) \n",
        "model.add(MaxPooling2D(pool_size=2))\n",
        "model.add(Flatten())\n",
        "model.add(Dense(1024, activation='relu'))\n",
        "model.add(Dense(500, activation='relu'))\n",
        "model.add(Dropout(0.5))\n",
        "model.add(Dense(29, activation='softmax'))\n",
        "\n",
        "model.summary()\n",
        "\n",
        "model.compile(loss='categorical_crossentropy', optimizer='rmsprop', \n",
        "                   metrics=['accuracy'])\n",
        "\n",
        "imageDataGen_train = ImageDataGenerator(\n",
        "    width_shift_range=0.1,  \n",
        "    height_shift_range=0.1,  \n",
        "    horizontal_flip=True)     \n",
        "\n",
        "imageDataGen_train.fit(x_train)\n",
        "  \n",
        "history = model.fit_generator(imageDataGen_train.flow(x_train, y_train, batch_size = 100),\n",
        "                    steps_per_epoch=x_train.shape[0] // 100,\n",
        "                    epochs=50, verbose=2,\n",
        "                    validation_data=(x_validation, y_validation),\n",
        "                    validation_steps=x_validation.shape[0] // 100)\n",
        "\n",
        "# model.fit(train_x, train_y,\n",
        "#           batch_size=10,\n",
        "#           epochs=10,\n",
        "#           verbose=1,\n",
        "#           validation_data=(test_x, test_y)\n",
        "#          )\n",
        "\n"
      ],
      "execution_count": 0,
      "outputs": [
        {
          "output_type": "stream",
          "text": [
            "Using TensorFlow backend.\n"
          ],
          "name": "stderr"
        },
        {
          "output_type": "display_data",
          "data": {
            "text/html": [
              "<p style=\"color: red;\">\n",
              "The default version of TensorFlow in Colab will soon switch to TensorFlow 2.x.<br>\n",
              "We recommend you <a href=\"https://www.tensorflow.org/guide/migrate\" target=\"_blank\">upgrade</a> now \n",
              "or ensure your notebook will continue to use TensorFlow 1.x via the <code>%tensorflow_version 1.x</code> magic:\n",
              "<a href=\"https://colab.research.google.com/notebooks/tensorflow_version.ipynb\" target=\"_blank\">more info</a>.</p>\n"
            ],
            "text/plain": [
              "<IPython.core.display.HTML object>"
            ]
          },
          "metadata": {
            "tags": []
          }
        },
        {
          "output_type": "stream",
          "text": [
            "WARNING:tensorflow:From /tensorflow-1.15.0/python3.6/tflearn/helpers/summarizer.py:9: The name tf.summary.merge is deprecated. Please use tf.compat.v1.summary.merge instead.\n",
            "\n",
            "WARNING:tensorflow:From /tensorflow-1.15.0/python3.6/tflearn/helpers/trainer.py:25: The name tf.summary.FileWriter is deprecated. Please use tf.compat.v1.summary.FileWriter instead.\n",
            "\n",
            "WARNING:tensorflow:From /tensorflow-1.15.0/python3.6/tflearn/collections.py:13: The name tf.GraphKeys is deprecated. Please use tf.compat.v1.GraphKeys instead.\n",
            "\n",
            "WARNING:tensorflow:From /tensorflow-1.15.0/python3.6/tflearn/config.py:123: The name tf.get_collection is deprecated. Please use tf.compat.v1.get_collection instead.\n",
            "\n",
            "WARNING:tensorflow:From /tensorflow-1.15.0/python3.6/tflearn/config.py:129: The name tf.add_to_collection is deprecated. Please use tf.compat.v1.add_to_collection instead.\n",
            "\n",
            "WARNING:tensorflow:From /tensorflow-1.15.0/python3.6/tflearn/config.py:131: The name tf.assign is deprecated. Please use tf.compat.v1.assign instead.\n",
            "\n",
            "WARNING:tensorflow:From /usr/local/lib/python3.6/dist-packages/keras/backend/tensorflow_backend.py:66: The name tf.get_default_graph is deprecated. Please use tf.compat.v1.get_default_graph instead.\n",
            "\n",
            "WARNING:tensorflow:From /usr/local/lib/python3.6/dist-packages/keras/backend/tensorflow_backend.py:541: The name tf.placeholder is deprecated. Please use tf.compat.v1.placeholder instead.\n",
            "\n",
            "WARNING:tensorflow:From /usr/local/lib/python3.6/dist-packages/keras/backend/tensorflow_backend.py:4432: The name tf.random_uniform is deprecated. Please use tf.random.uniform instead.\n",
            "\n",
            "WARNING:tensorflow:From /usr/local/lib/python3.6/dist-packages/keras/backend/tensorflow_backend.py:4267: The name tf.nn.max_pool is deprecated. Please use tf.nn.max_pool2d instead.\n",
            "\n",
            "WARNING:tensorflow:From /usr/local/lib/python3.6/dist-packages/keras/backend/tensorflow_backend.py:148: The name tf.placeholder_with_default is deprecated. Please use tf.compat.v1.placeholder_with_default instead.\n",
            "\n",
            "WARNING:tensorflow:From /usr/local/lib/python3.6/dist-packages/keras/backend/tensorflow_backend.py:3733: calling dropout (from tensorflow.python.ops.nn_ops) with keep_prob is deprecated and will be removed in a future version.\n",
            "Instructions for updating:\n",
            "Please use `rate` instead of `keep_prob`. Rate should be set to `rate = 1 - keep_prob`.\n",
            "Model: \"sequential_1\"\n",
            "_________________________________________________________________\n",
            "Layer (type)                 Output Shape              Param #   \n",
            "=================================================================\n",
            "conv2d_1 (Conv2D)            (None, 32, 32, 16)        80        \n",
            "_________________________________________________________________\n",
            "max_pooling2d_1 (MaxPooling2 (None, 16, 16, 16)        0         \n",
            "_________________________________________________________________\n",
            "conv2d_2 (Conv2D)            (None, 16, 16, 64)        4160      \n",
            "_________________________________________________________________\n",
            "max_pooling2d_2 (MaxPooling2 (None, 8, 8, 64)          0         \n",
            "_________________________________________________________________\n",
            "flatten_1 (Flatten)          (None, 4096)              0         \n",
            "_________________________________________________________________\n",
            "dense_1 (Dense)              (None, 1024)              4195328   \n",
            "_________________________________________________________________\n",
            "dense_2 (Dense)              (None, 500)               512500    \n",
            "_________________________________________________________________\n",
            "dropout_1 (Dropout)          (None, 500)               0         \n",
            "_________________________________________________________________\n",
            "dense_3 (Dense)              (None, 29)                14529     \n",
            "=================================================================\n",
            "Total params: 4,726,597\n",
            "Trainable params: 4,726,597\n",
            "Non-trainable params: 0\n",
            "_________________________________________________________________\n",
            "WARNING:tensorflow:From /usr/local/lib/python3.6/dist-packages/keras/optimizers.py:793: The name tf.train.Optimizer is deprecated. Please use tf.compat.v1.train.Optimizer instead.\n",
            "\n",
            "WARNING:tensorflow:From /usr/local/lib/python3.6/dist-packages/keras/backend/tensorflow_backend.py:3576: The name tf.log is deprecated. Please use tf.math.log instead.\n",
            "\n",
            "WARNING:tensorflow:From /tensorflow-1.15.0/python3.6/tensorflow_core/python/ops/math_grad.py:1424: where (from tensorflow.python.ops.array_ops) is deprecated and will be removed in a future version.\n",
            "Instructions for updating:\n",
            "Use tf.where in 2.0, which has the same broadcast rule as np.where\n",
            "WARNING:tensorflow:From /usr/local/lib/python3.6/dist-packages/keras/backend/tensorflow_backend.py:1033: The name tf.assign_add is deprecated. Please use tf.compat.v1.assign_add instead.\n",
            "\n",
            "WARNING:tensorflow:From /usr/local/lib/python3.6/dist-packages/keras/backend/tensorflow_backend.py:3005: The name tf.Session is deprecated. Please use tf.compat.v1.Session instead.\n",
            "\n",
            "Epoch 1/50\n",
            "WARNING:tensorflow:From /usr/local/lib/python3.6/dist-packages/keras/backend/tensorflow_backend.py:190: The name tf.get_default_session is deprecated. Please use tf.compat.v1.get_default_session instead.\n",
            "\n",
            "WARNING:tensorflow:From /usr/local/lib/python3.6/dist-packages/keras/backend/tensorflow_backend.py:197: The name tf.ConfigProto is deprecated. Please use tf.compat.v1.ConfigProto instead.\n",
            "\n",
            "WARNING:tensorflow:From /usr/local/lib/python3.6/dist-packages/keras/backend/tensorflow_backend.py:207: The name tf.global_variables is deprecated. Please use tf.compat.v1.global_variables instead.\n",
            "\n",
            "WARNING:tensorflow:From /usr/local/lib/python3.6/dist-packages/keras/backend/tensorflow_backend.py:216: The name tf.is_variable_initialized is deprecated. Please use tf.compat.v1.is_variable_initialized instead.\n",
            "\n",
            "WARNING:tensorflow:From /usr/local/lib/python3.6/dist-packages/keras/backend/tensorflow_backend.py:223: The name tf.variables_initializer is deprecated. Please use tf.compat.v1.variables_initializer instead.\n",
            "\n",
            " - 21s - loss: 2.6601 - acc: 0.1878 - val_loss: 2.1161 - val_acc: 0.3030\n",
            "Epoch 2/50\n",
            " - 20s - loss: 1.7927 - acc: 0.3911 - val_loss: 1.5423 - val_acc: 0.4830\n",
            "Epoch 3/50\n",
            " - 20s - loss: 1.4107 - acc: 0.5062 - val_loss: 1.5111 - val_acc: 0.5270\n",
            "Epoch 4/50\n",
            " - 20s - loss: 1.1897 - acc: 0.5774 - val_loss: 1.0984 - val_acc: 0.6570\n",
            "Epoch 5/50\n",
            " - 20s - loss: 1.0251 - acc: 0.6401 - val_loss: 1.1226 - val_acc: 0.6630\n",
            "Epoch 6/50\n",
            " - 20s - loss: 0.9097 - acc: 0.6786 - val_loss: 1.0257 - val_acc: 0.6790\n",
            "Epoch 7/50\n",
            " - 20s - loss: 0.8198 - acc: 0.7125 - val_loss: 0.9296 - val_acc: 0.7070\n",
            "Epoch 8/50\n",
            " - 20s - loss: 0.7400 - acc: 0.7356 - val_loss: 0.9014 - val_acc: 0.7300\n",
            "Epoch 9/50\n",
            " - 20s - loss: 0.6945 - acc: 0.7564 - val_loss: 0.9719 - val_acc: 0.7250\n",
            "Epoch 10/50\n",
            " - 20s - loss: 0.6171 - acc: 0.7808 - val_loss: 0.8113 - val_acc: 0.7650\n",
            "Epoch 11/50\n",
            " - 20s - loss: 0.5888 - acc: 0.7895 - val_loss: 0.9129 - val_acc: 0.7410\n",
            "Epoch 12/50\n",
            " - 20s - loss: 0.5592 - acc: 0.8047 - val_loss: 0.8031 - val_acc: 0.7790\n",
            "Epoch 13/50\n",
            " - 20s - loss: 0.5258 - acc: 0.8186 - val_loss: 0.8490 - val_acc: 0.7670\n",
            "Epoch 14/50\n",
            " - 20s - loss: 0.4933 - acc: 0.8288 - val_loss: 0.8049 - val_acc: 0.7960\n",
            "Epoch 15/50\n",
            " - 20s - loss: 0.4756 - acc: 0.8400 - val_loss: 0.7409 - val_acc: 0.7920\n",
            "Epoch 16/50\n",
            " - 20s - loss: 0.4622 - acc: 0.8438 - val_loss: 0.8259 - val_acc: 0.8050\n",
            "Epoch 17/50\n",
            " - 20s - loss: 0.4295 - acc: 0.8552 - val_loss: 0.7678 - val_acc: 0.8190\n",
            "Epoch 18/50\n",
            " - 20s - loss: 0.4276 - acc: 0.8530 - val_loss: 0.7505 - val_acc: 0.8140\n",
            "Epoch 19/50\n",
            " - 20s - loss: 0.4129 - acc: 0.8568 - val_loss: 1.0042 - val_acc: 0.7810\n",
            "Epoch 20/50\n",
            " - 20s - loss: 0.3909 - acc: 0.8680 - val_loss: 0.9025 - val_acc: 0.7980\n",
            "Epoch 21/50\n",
            " - 20s - loss: 0.3878 - acc: 0.8718 - val_loss: 0.8665 - val_acc: 0.8200\n",
            "Epoch 22/50\n",
            " - 20s - loss: 0.3736 - acc: 0.8737 - val_loss: 0.7971 - val_acc: 0.8230\n",
            "Epoch 23/50\n",
            " - 20s - loss: 0.3544 - acc: 0.8820 - val_loss: 0.7679 - val_acc: 0.8300\n",
            "Epoch 24/50\n",
            " - 20s - loss: 0.3428 - acc: 0.8883 - val_loss: 0.7452 - val_acc: 0.8370\n",
            "Epoch 25/50\n",
            " - 20s - loss: 0.3511 - acc: 0.8862 - val_loss: 0.6430 - val_acc: 0.8590\n",
            "Epoch 26/50\n",
            " - 20s - loss: 0.3153 - acc: 0.8936 - val_loss: 0.7533 - val_acc: 0.8500\n",
            "Epoch 27/50\n",
            " - 20s - loss: 0.3351 - acc: 0.8888 - val_loss: 0.8260 - val_acc: 0.8310\n",
            "Epoch 28/50\n",
            " - 20s - loss: 0.3126 - acc: 0.8983 - val_loss: 0.8125 - val_acc: 0.8350\n",
            "Epoch 29/50\n",
            " - 20s - loss: 0.3255 - acc: 0.8953 - val_loss: 0.6452 - val_acc: 0.8600\n",
            "Epoch 30/50\n",
            " - 20s - loss: 0.3156 - acc: 0.8989 - val_loss: 0.6861 - val_acc: 0.8480\n",
            "Epoch 31/50\n",
            " - 20s - loss: 0.3001 - acc: 0.9017 - val_loss: 0.6784 - val_acc: 0.8660\n",
            "Epoch 32/50\n",
            " - 20s - loss: 0.2982 - acc: 0.9025 - val_loss: 0.7008 - val_acc: 0.8690\n",
            "Epoch 33/50\n",
            " - 20s - loss: 0.2861 - acc: 0.9078 - val_loss: 0.7967 - val_acc: 0.8530\n",
            "Epoch 34/50\n",
            " - 20s - loss: 0.2996 - acc: 0.9052 - val_loss: 0.9052 - val_acc: 0.8400\n",
            "Epoch 35/50\n",
            " - 20s - loss: 0.2947 - acc: 0.9065 - val_loss: 0.8607 - val_acc: 0.8290\n",
            "Epoch 36/50\n",
            " - 20s - loss: 0.2943 - acc: 0.9075 - val_loss: 0.6711 - val_acc: 0.8640\n",
            "Epoch 37/50\n",
            " - 20s - loss: 0.2806 - acc: 0.9094 - val_loss: 0.9819 - val_acc: 0.8520\n",
            "Epoch 38/50\n",
            " - 20s - loss: 0.2814 - acc: 0.9121 - val_loss: 0.7198 - val_acc: 0.8820\n",
            "Epoch 39/50\n",
            " - 20s - loss: 0.2777 - acc: 0.9125 - val_loss: 0.7864 - val_acc: 0.8680\n",
            "Epoch 40/50\n",
            " - 20s - loss: 0.2889 - acc: 0.9154 - val_loss: 0.8818 - val_acc: 0.8700\n",
            "Epoch 41/50\n",
            " - 20s - loss: 0.2775 - acc: 0.9140 - val_loss: 0.7591 - val_acc: 0.8800\n",
            "Epoch 42/50\n",
            " - 20s - loss: 0.2767 - acc: 0.9129 - val_loss: 0.7816 - val_acc: 0.8840\n",
            "Epoch 43/50\n",
            " - 20s - loss: 0.2739 - acc: 0.9167 - val_loss: 0.7598 - val_acc: 0.8800\n",
            "Epoch 44/50\n",
            " - 20s - loss: 0.2755 - acc: 0.9135 - val_loss: 0.7960 - val_acc: 0.8780\n",
            "Epoch 45/50\n",
            " - 20s - loss: 0.2628 - acc: 0.9187 - val_loss: 0.9929 - val_acc: 0.8570\n",
            "Epoch 46/50\n",
            " - 20s - loss: 0.2685 - acc: 0.9173 - val_loss: 0.8188 - val_acc: 0.8830\n",
            "Epoch 47/50\n",
            " - 20s - loss: 0.2655 - acc: 0.9195 - val_loss: 0.9421 - val_acc: 0.8690\n",
            "Epoch 48/50\n",
            " - 20s - loss: 0.2722 - acc: 0.9206 - val_loss: 0.9518 - val_acc: 0.8710\n",
            "Epoch 49/50\n",
            " - 20s - loss: 0.2648 - acc: 0.9219 - val_loss: 1.0885 - val_acc: 0.8590\n",
            "Epoch 50/50\n",
            " - 20s - loss: 0.2715 - acc: 0.9161 - val_loss: 0.9507 - val_acc: 0.8850\n"
          ],
          "name": "stdout"
        }
      ]
    },
    {
      "cell_type": "code",
      "metadata": {
        "_uuid": "d629ff2d2480ee46fbb7e2d37f6b5fab8052498a",
        "_cell_guid": "79c7e3d0-c299-4dcb-8224-4455121ee9b0",
        "trusted": false,
        "id": "yRsaYD9ErLbh",
        "colab_type": "code",
        "outputId": "e3261778-9f66-4f3a-ce20-a50dde6ca1ab",
        "colab": {
          "base_uri": "https://localhost:8080/",
          "height": 54
        }
      },
      "source": [
        "# from sklearn.metrics import confusion_matrix\n",
        "# predictions = model.predict(x_test)\n",
        "# predictions = np.argmax(predictions,axis = 1)\n",
        "# cm = confusion_matrix(y_test, predictions)\n",
        "# accuracy = sum(cm[i][i] for i in range(28)) / y_test.shape[0]\n",
        "# print(\"accuracy = \" + str(accuracy))\n",
        "\n",
        "score = model.evaluate(x_test, y_test, verbose=0)\n",
        "print('\\n', 'Test accuracy:', score[1]*100)"
      ],
      "execution_count": 0,
      "outputs": [
        {
          "output_type": "stream",
          "text": [
            "\n",
            " Test accuracy: 93.80768085739804\n"
          ],
          "name": "stdout"
        }
      ]
    },
    {
      "cell_type": "code",
      "metadata": {
        "id": "scSRc-88CVPw",
        "colab_type": "code",
        "outputId": "f79c59b9-2a6d-4d5f-bbe4-63e33168a1ad",
        "colab": {
          "base_uri": "https://localhost:8080/",
          "height": 563
        }
      },
      "source": [
        "import matplotlib.pyplot as plt\n",
        "# Retrieve a list of accuracy results on training and test data\n",
        "# sets for each training epoch\n",
        "acc = history.history['acc']\n",
        "val_acc = history.history['val_acc']\n",
        "\n",
        "# Retrieve a list of list results on training and test data\n",
        "# sets for each training epoch\n",
        "loss = history.history['loss']\n",
        "val_loss = history.history['val_loss']\n",
        "\n",
        "# Get number of epochs\n",
        "epochs = range(len(acc))\n",
        "\n",
        "# Plot training and validation accuracy per epoch\n",
        "plt.plot(epochs, acc)\n",
        "plt.plot(epochs, val_acc)\n",
        "plt.legend(['train', 'validation'], loc='upper left')\n",
        "plt.title('Training and validation accuracy')\n",
        "\n",
        "plt.figure()\n",
        "\n",
        "# Plot training and validation loss per epoch\n",
        "plt.plot(epochs, loss)\n",
        "plt.plot(epochs, val_loss)\n",
        "plt.legend(['train', 'validation'], loc='lower left')\n",
        "plt.title('Training and validation loss')"
      ],
      "execution_count": 0,
      "outputs": [
        {
          "output_type": "execute_result",
          "data": {
            "text/plain": [
              "Text(0.5, 1.0, 'Training and validation loss')"
            ]
          },
          "metadata": {
            "tags": []
          },
          "execution_count": 4
        },
        {
          "output_type": "display_data",
          "data": {
            "image/png": "[encoded data removed]",
            "text/plain": [
              "<Figure size 432x288 with 1 Axes>"
            ]
          },
          "metadata": {
            "tags": []
          }
        },
        {
          "output_type": "display_data",
          "data": {
            "image/png": "[encoded data removed]",
            "text/plain": [
              "<Figure size 432x288 with 1 Axes>"
            ]
          },
          "metadata": {
            "tags": []
          }
        }
      ]
    },
    {
      "cell_type": "code",
      "metadata": {
        "id": "5NQI4pxJu2ry",
        "colab_type": "code",
        "colab": {}
      },
      "source": [
        ""
      ],
      "execution_count": 0,
      "outputs": []
    }
  ]
}